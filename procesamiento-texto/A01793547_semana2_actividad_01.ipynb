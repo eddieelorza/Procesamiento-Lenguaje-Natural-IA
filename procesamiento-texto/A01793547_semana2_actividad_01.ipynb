{
  "cells": [
    {
      "cell_type": "markdown",
      "metadata": {
        "id": "759SG4TyfbUn"
      },
      "source": [
        "#**Maestría en Inteligencia Artificial Aplicada**\n",
        "##**Curso: Procesamiento de Lenguaje Natural (NLP)**\n",
        "###Tecnológico de Monterrey\n",
        "###Prof Luis Eduardo Falcón Morales\n",
        "\n",
        "## **Adtividad de la Semana 02**\n",
        "###**Introducción al procesamiento de texto.**"
      ]
    },
    {
      "attachments": {},
      "cell_type": "markdown",
      "metadata": {},
      "source": [
        "**EDDIE G. ELORZA RUIZ | A01793547**\n",
        "\n",
        "\n",
        ">Materia: Estrategia de implementación de servicios tecnológicos (Gpo 10)\n",
        "\n",
        ">Profesor Titular: Phd. Luis Eduardo Falcón Morales"
      ]
    },
    {
      "cell_type": "markdown",
      "metadata": {
        "id": "6ue1YAKx3XDo"
      },
      "source": [
        "En esta actividad deberás utilizar los datos del siguiente archivo que se encuentra en Canvas:\n",
        "\n",
        "MNA_NLP_semana_02_Actividad_datos.txt\n",
        "\n",
        "El archivo contiene comentarios en inglés sobre servicios de comida de la página de Yelp: https://www.yelp.com/ . \n",
        "\n",
        "Son mil comentarios y forman parte del conjunto de datos que se encuentra en el Machine Learning Repository de la UCI, llamado \"Sentiment Labelled Sentences\": https://archive.ics.uci.edu/ml/datasets/Sentiment+Labelled+Sentences#\n"
      ]
    },
    {
      "cell_type": "markdown",
      "metadata": {
        "id": "Zj-h4drXD-X9"
      },
      "source": [
        "#**Parte 1. Cargamos los datos.**   "
      ]
    },
    {
      "cell_type": "markdown",
      "metadata": {
        "id": "BY6yifxscfrx"
      },
      "source": [
        "Cargar los datos del archivo indicado y obtener una lista de longitud de 1000 strings/comentarios. \n",
        "\n",
        "Por el momento solamente requerimos las bibliotecas de Numpy y re, para el manejo de los arreglos y de las expresiones regulares en Python.\n",
        "\n",
        "En particular, no necesitarás en esta actividad la biblioteca de Pandas.\n",
        "\n",
        "###**NOTA: En esta actividad no debes importar nada más, con estas dos bibliotecas será *suficiente*.**"
      ]
    },
    {
      "cell_type": "code",
      "execution_count": 9,
      "metadata": {},
      "outputs": [
        {
          "name": "stdout",
          "output_type": "stream",
          "text": [
            "Collecting numpy\n",
            "  Downloading numpy-1.24.2-cp310-cp310-macosx_10_9_x86_64.whl (19.8 MB)\n",
            "\u001b[2K     \u001b[90m━━━━━━━━━━━━━━━━━━━━━━━━━━━━━━━━━━━━━━━━\u001b[0m \u001b[32m19.8/19.8 MB\u001b[0m \u001b[31m4.0 MB/s\u001b[0m eta \u001b[36m0:00:00\u001b[0m00:01\u001b[0m00:01\u001b[0mm\n",
            "\u001b[?25hInstalling collected packages: numpy\n",
            "Successfully installed numpy-1.24.2\n",
            "\n",
            "\u001b[1m[\u001b[0m\u001b[34;49mnotice\u001b[0m\u001b[1;39;49m]\u001b[0m\u001b[39;49m A new release of pip available: \u001b[0m\u001b[31;49m22.3.1\u001b[0m\u001b[39;49m -> \u001b[0m\u001b[32;49m23.1.1\u001b[0m\n",
            "\u001b[1m[\u001b[0m\u001b[34;49mnotice\u001b[0m\u001b[1;39;49m]\u001b[0m\u001b[39;49m To update, run: \u001b[0m\u001b[32;49m/usr/local/opt/python@3.10/bin/python3.10 -m pip install --upgrade pip\u001b[0m\n"
          ]
        }
      ],
      "source": [
        "#install numpy\n",
        "\n",
        "!pip3 install numpy\n"
      ]
    },
    {
      "cell_type": "code",
      "execution_count": 1,
      "metadata": {
        "id": "OJ26dAfhdFnf"
      },
      "outputs": [],
      "source": [
        "import re             # importamos re para el manejo de las expresiones regulares."
      ]
    },
    {
      "cell_type": "code",
      "execution_count": 2,
      "metadata": {
        "id": "QHUmJyjDdGNP"
      },
      "outputs": [],
      "source": [
        "# Ejecuta las siguientes instrucciones para cargar la información del achivo dado:\n",
        "\n",
        "with open('MNA_NLP_semana_02_Actividad_datos.txt',        # puedes actualizar la ruta a tu archivo, en dado caso.\n",
        "          mode='r',     # abrimos el archivo en modo lectura.\n",
        "          ) as f:\n",
        "    docs = f.readlines()    # separamos cada comentario por líneas\n",
        "\n",
        "f.close()  # ya que tenemos la información en la variable docs, cerramos el archivo"
      ]
    },
    {
      "cell_type": "code",
      "execution_count": 37,
      "metadata": {
        "id": "L6WzrSrodG-Y"
      },
      "outputs": [
        {
          "data": {
            "text/plain": [
              "True"
            ]
          },
          "execution_count": 37,
          "metadata": {},
          "output_type": "execute_result"
        }
      ],
      "source": [
        "type(docs) == list   # Verifica que tu variable \"docs\" es una lista"
      ]
    },
    {
      "cell_type": "code",
      "execution_count": 35,
      "metadata": {
        "id": "QIK1u9WS2FtS"
      },
      "outputs": [
        {
          "data": {
            "text/plain": [
              "True"
            ]
          },
          "execution_count": 35,
          "metadata": {},
          "output_type": "execute_result"
        }
      ],
      "source": [
        "len(docs)==1000  # verifica que la longitud de \"docs\" es de mil comentarios."
      ]
    },
    {
      "cell_type": "code",
      "execution_count": 38,
      "metadata": {
        "id": "9AMLIfQvJqNZ"
      },
      "outputs": [
        {
          "data": {
            "text/plain": [
              "['Wow... Loved this place.\\n',\n",
              " 'Crust is not good.\\n',\n",
              " 'Not tasty and the texture was just nasty.\\n',\n",
              " 'Stopped by during the late May bank holiday off Rick Steve recommendation and loved it.\\n',\n",
              " 'The selection on the menu was great and so were the prices.\\n',\n",
              " 'Now I am getting angry and I want my damn pho.\\n',\n",
              " \"Honeslty it didn't taste THAT fresh.)\\n\",\n",
              " 'The potatoes were like rubber and you could tell they had been made up ahead of time being kept under a warmer.\\n',\n",
              " 'The fries were great too.\\n',\n",
              " 'A great touch.\\n']"
            ]
          },
          "execution_count": 38,
          "metadata": {},
          "output_type": "execute_result"
        }
      ],
      "source": [
        "docs[0:10]     # observa algunos de los primeros comentarios"
      ]
    },
    {
      "cell_type": "markdown",
      "metadata": {
        "id": "k_ewoagic5jc"
      },
      "source": [
        "#**Parte 2: sección de preguntas (regex).**   \n"
      ]
    },
    {
      "cell_type": "markdown",
      "metadata": {
        "id": "X-eMJa3DFCIV"
      },
      "source": [
        "##**Instrucciones:**\n",
        "\n",
        "###**A continuación deberás contestar cada una de las preguntas que te piden usando expresiones regulares (regex).**\n",
        "\n",
        "###**Por el momento no hay restricción en cuanto al número de líneas de código que agregues, pero trata de incluir las mínimas posibles.**"
      ]
    },
    {
      "cell_type": "markdown",
      "metadata": {
        "id": "78nJMemzn5a5"
      },
      "source": [
        "*   **Pregunta 1.** \n",
        "\n",
        "Busca y elimina todos los saltos de línea '\\n' que se encuentran al final de cada comentario. \n",
        "\n",
        "Una vez finalizado, imprime los primeros 10 comentarios del resultado obtenido.\n"
      ]
    },
    {
      "cell_type": "code",
      "execution_count": 39,
      "metadata": {
        "id": "PwbYYIuZn8pE"
      },
      "outputs": [
        {
          "data": {
            "text/plain": [
              "['Wow... Loved this place.',\n",
              " 'Crust is not good.',\n",
              " 'Not tasty and the texture was just nasty.',\n",
              " 'Stopped by during the late May bank holiday off Rick Steve recommendation and loved it.',\n",
              " 'The selection on the menu was great and so were the prices.',\n",
              " 'Now I am getting angry and I want my damn pho.',\n",
              " \"Honeslty it didn't taste THAT fresh.)\",\n",
              " 'The potatoes were like rubber and you could tell they had been made up ahead of time being kept under a warmer.',\n",
              " 'The fries were great too.',\n",
              " 'A great touch.']"
            ]
          },
          "execution_count": 39,
          "metadata": {},
          "output_type": "execute_result"
        }
      ],
      "source": [
        "# Busca y elimina todos los saltos de línea '\\n' que se encuentran al final de cada comentario. \n",
        "\n",
        "docs = [re.sub('\\n', '', doc) for doc in docs]\n",
        "\n",
        "docs[0:10]     # observa algunos de los primeros comentarios\n",
        "\n",
        "\n"
      ]
    },
    {
      "cell_type": "code",
      "execution_count": null,
      "metadata": {
        "id": "j-0qeh2Jn8l1"
      },
      "outputs": [],
      "source": []
    },
    {
      "attachments": {},
      "cell_type": "markdown",
      "metadata": {
        "id": "VWeKQC93ctEo"
      },
      "source": [
        "*   **Pregunta 2.**  \n",
        "\n",
        "Busca e imprime todas las palabras que terminan con dos o más signos de admiración seguidos, por ejemplo \"!!!\". \n",
        "\n",
        "Debes imprimir tanto la palabra como la totalidad de signos de admiración que le siguen. \n",
        "\n",
        "Indica cuántos resultados obtuviste.\n",
        "\n"
      ]
    },
    {
      "cell_type": "code",
      "execution_count": 81,
      "metadata": {
        "id": "0p3kMXfddICc"
      },
      "outputs": [
        {
          "name": "stdout",
          "output_type": "stream",
          "text": [
            "Firehouse!!!!! (5 signos de admiración)\n",
            "APPETIZERS!!! (3 signos de admiración)\n",
            "amazing!!! (3 signos de admiración)\n",
            "buffet!!! (3 signos de admiración)\n",
            "good!! (2 signos de admiración)\n",
            "it!!!! (4 signos de admiración)\n",
            "DELICIOUS!! (2 signos de admiración)\n",
            "amazing!! (2 signos de admiración)\n",
            "shawarrrrrrma!!!!!! (6 signos de admiración)\n",
            "yucky!!! (3 signos de admiración)\n",
            "delicious!!! (3 signos de admiración)\n",
            "far!! (2 signos de admiración)\n",
            "biscuits!!! (3 signos de admiración)\n",
            "disappointing!!! (3 signos de admiración)\n",
            "awesome!! (2 signos de admiración)\n",
            "Up!! (2 signos de admiración)\n",
            "FLY!!!!!!!! (8 signos de admiración)\n",
            "great!!!!!!!!!!!!!! (14 signos de admiración)\n",
            "packed!! (2 signos de admiración)\n",
            "amazing!!!!!!!!!!!!!!!!!!! (19 signos de admiración)\n",
            "style!! (2 signos de admiración)\n",
            "disappointed!! (2 signos de admiración)\n",
            "Se encontraron 22 resultados.\n"
          ]
        }
      ],
      "source": [
        "\n",
        "# contador de resultados\n",
        "count = 0\n",
        "\n",
        "# buscamos e imprimimos las palabras que cumplen con la expresión regular\n",
        "for doc in docs:\n",
        "    reg = re.findall(r'\\w+!{2,}$', doc)\n",
        "    for i in reg:\n",
        "        \n",
        "        print(f\"{i} ({len(re.findall('!', i))} signos de admiración)\")\n",
        "        count += 1\n",
        "\n",
        "# imprimimos el número total de resultados encontrados\n",
        "print(f\"Se encontraron {count} resultados.\")\n",
        "\n"
      ]
    },
    {
      "cell_type": "code",
      "execution_count": null,
      "metadata": {
        "id": "SPVM1MCWdH6Z"
      },
      "outputs": [],
      "source": []
    },
    {
      "cell_type": "markdown",
      "metadata": {
        "id": "-s3okBqL96TT"
      },
      "source": [
        "*   **Pregunta 3.**  \n",
        "\n",
        "Busca e imprime todas las palabras que están escritas totalmente en mayúsculas. Cada coincidencia debe ser una sola palabra.\n",
        "\n",
        "Indica cuántas palabras encontraste.\n",
        "\n"
      ]
    },
    {
      "cell_type": "code",
      "execution_count": 133,
      "metadata": {
        "id": "yKHJkZKo_nW5"
      },
      "outputs": [
        {
          "name": "stdout",
          "output_type": "stream",
          "text": [
            "Se encontraron 444 resultados.\n",
            "['I', 'I', 'THAT', 'I', 'I', 'I', 'I', 'I', 'I', 'I', 'I', 'I', 'I', 'I', 'I', 'APPETIZERS', 'I', 'I', 'I', 'I', 'I', 'I', 'I', 'WILL', 'NEVER', 'EVER', 'STEP', 'FORWARD', 'IN', 'IT', 'AGAIN', 'I', 'LOVED', 'I', 'AND', 'REAL', 'I', 'I', 'I', 'I', 'BITCHES', 'I', 'I', 'I', 'I', 'NYC', 'I', 'I', 'I', 'I', 'I', 'I', 'I', 'STALE', 'I', 'I', 'DELICIOUS', 'I', 'I', 'I', 'I', 'I', 'I', 'I', 'I', 'I', 'I', 'I', 'I', 'I', 'I', 'I', 'WORST', 'EXPERIENCE', 'EVER', 'I', 'ALL', 'I', 'BARGAIN', 'I', 'TV', 'NONE', 'I', 'FREEZING', 'AYCE', 'I', 'I', 'I', 'I', 'I', 'I', 'I', 'I', 'I', 'I', 'I', 'I', 'I', 'FLAVOR', 'I', 'I', 'I', 'I', 'I', 'I', 'I', 'I', 'I', 'I', 'I', 'I', 'I', 'I', 'I', 'I', 'I', 'I', 'NEVER', 'I', 'I', 'I', 'I', 'BBQ', 'I', 'I', 'UNREAL', 'I', 'I', 'I', 'I', 'I', 'I', 'OMG', 'I', 'BETTER', 'I', 'I', 'BLAND', 'I', 'I', 'I', 'I', 'I', 'I', 'I', 'RUDE', 'INCONSIDERATE', 'MANAGEMENT', 'I', 'I', 'WILL', 'NEVER', 'EVER', 'GO', 'BACK', 'AND', 'HAVE', 'TOLD', 'MANY', 'PEOPLE', 'WHAT', 'HAD', 'HAPPENED', 'I', 'I', 'I', 'I', 'I', 'I', 'I', 'I', 'I', 'I', 'I', 'I', 'I', 'TOTAL', 'WASTE', 'OF', 'TIME', 'I', 'I', 'I', 'I', 'I', 'I', 'I', 'I', 'I', 'I', 'I', 'I', 'I', 'I', 'I', 'FS', 'I', 'I', 'I', 'I', 'I', 'I', 'I', 'I', 'I', 'AZ', 'I', 'I', 'I', 'I', 'LOVED', 'I', 'I', 'I', 'I', 'I', 'I', 'CONCLUSION', 'I', 'I', 'I', 'I', 'I', 'I', 'BEST', 'I', 'GO', 'NOW', 'I', 'I', 'GC', 'I', 'I', 'I', 'I', 'I', 'I', 'I', 'I', 'I', 'I', 'I', 'AVOID', 'THIS', 'ESTABLISHMENT', 'I', 'I', 'I', 'I', 'I', 'AN', 'HOUR', 'I', 'I', 'I', 'I', 'I', 'I', 'I', 'I', 'NASTY', 'OMG', 'I', 'I', 'NO', 'I', 'I', 'I', 'BEST', 'I', 'I', 'I', 'I', 'THE', 'OWNERS', 'REALLY', 'REALLY', 'I', 'I', 'I', 'I', 'I', 'I', 'I', 'I', 'I', 'I', 'I', 'I', 'PERFECT', 'SCREAMS', 'LEGIT', 'I', 'MGM', 'I', 'I', 'I', 'I', 'I', 'I', 'I', 'I', 'I', 'I', 'I', 'I', 'I', 'I', 'I', 'BEST', 'I', 'I', 'FLY', 'FLY', 'I', 'I', 'I', 'I', 'I', 'I', 'I', 'I', 'I', 'I', 'I', 'I', 'FANTASTIC', 'I', 'I', 'I', 'I', 'GREAT', 'OK', 'I', 'I', 'WAY', 'I', 'I', 'MUST', 'HAVE', 'I', 'I', 'I', 'I', 'I', 'I', 'OK', 'I', 'I', 'I', 'I', 'OVERPRICED', 'I', 'I', 'I', 'I', 'I', 'I', 'I', 'I', 'I', 'I', 'I', 'I', 'I', 'I', 'I', 'I', 'I', 'I', 'I', 'I', 'I', 'I', 'I', 'I', 'I', 'BARE', 'HANDS', 'I', 'I', 'I', 'I', 'I', 'I', 'I', 'I', 'I', 'I', 'I', 'I', 'I', 'I', 'I', 'WEAK', 'I', 'I', 'I', 'I', 'I', 'I', 'I', 'I', 'SHOULD', 'I', 'I', 'I', 'RI', 'I', 'I', 'I', 'I', 'I', 'I', 'I', 'VERY', 'I', 'I', 'I', 'NOT', 'I', 'I', 'I', 'I', 'I', 'I', 'I', 'I', 'I', 'I', 'I', 'I', 'I', 'I', 'I', 'I', 'I', 'I', 'I', 'I', 'I', 'I', 'I', 'I']\n"
          ]
        }
      ],
      "source": [
        "# contador de palabras encontradas\n",
        "count = 0\n",
        "arr = []\n",
        "for doc in docs:\n",
        "# Busca e imprime todas las palabras que están escritas totalmente en mayúsculas. Cada coincidencia debe ser una sola palabra.\n",
        "# Por ejemplo, si en el texto aparece la palabra \"I\" = YO EN ESPAÑOL, esta debe ser considerada como una sola palabra.\n",
        "    reg = re.findall(r'\\b[A-Z]{2,}\\b|\\b[I]{1}\\b', doc)\n",
        "    for i in reg:\n",
        "        arr.append(i)\n",
        "        count += 1\n",
        "\n",
        "      \n",
        "# imprimimos el número total de resultados encontrados\n",
        "print(f\"Se encontraron {count} resultados.\")\n",
        "print(arr)\n"
      ]
    },
    {
      "cell_type": "code",
      "execution_count": null,
      "metadata": {
        "id": "L3q08aq69sNn"
      },
      "outputs": [],
      "source": []
    },
    {
      "cell_type": "markdown",
      "metadata": {
        "id": "GX8eYyDoMZma"
      },
      "source": [
        "*   **Pregunta 4.**  \n",
        "\n",
        "Busca e imprime los comentarios en donde todos los caracteres alfabéticos (letras) están en mayúsculas. \n",
        "\n",
        "Cada coincidencia encontrada debe ser todo el comentario/enunciado.\n",
        "\n",
        "Indica cuántos resultados obtuviste.\n"
      ]
    },
    {
      "cell_type": "code",
      "execution_count": 134,
      "metadata": {
        "id": "K8VuZxvTMYj6"
      },
      "outputs": [
        {
          "name": "stdout",
          "output_type": "stream",
          "text": [
            "DELICIOUS!!\n",
            "RUDE & INCONSIDERATE MANAGEMENT.\n",
            "WILL NEVER EVER GO BACK AND HAVE TOLD MANY PEOPLE WHAT HAD HAPPENED.\n",
            "TOTAL WASTE OF TIME.\n",
            "AVOID THIS ESTABLISHMENT!\n",
            "Se encontraron 5 resultados.\n"
          ]
        }
      ],
      "source": [
        "count = 0\n",
        "\n",
        "for doc in docs:\n",
        "    reg = re.findall(r'^[^a-z]*[A-Z\\s]+[^a-z]*$', doc)\n",
        "    for i in reg:\n",
        "        print(i.strip())\n",
        "        count += 1\n",
        "\n",
        "print(f\"Se encontraron {count} resultados.\")"
      ]
    },
    {
      "cell_type": "code",
      "execution_count": null,
      "metadata": {
        "id": "PmKgX7sCMcDx"
      },
      "outputs": [],
      "source": []
    },
    {
      "cell_type": "markdown",
      "metadata": {
        "id": "a1i6qv7-McmU"
      },
      "source": [
        "*   **Pregunta 5.**  \n",
        "\n",
        "Busca e imprime todas las palabras que tengan una vocal acentuada, del tipo á, é, í, ó, ú. \n",
        "\n",
        "Indica cuántos resultados obtuviste."
      ]
    },
    {
      "cell_type": "code",
      "execution_count": 137,
      "metadata": {
        "id": "nZZ5zKUOMeGD"
      },
      "outputs": [
        {
          "name": "stdout",
          "output_type": "stream",
          "text": [
            "fiancé\n",
            "Café\n",
            "puréed\n",
            "Se encontraron 3 resultados.\n"
          ]
        }
      ],
      "source": [
        "count = 0\n",
        "\n",
        "for doc in docs:\n",
        "    reg = re.findall(r'\\w*[áéíóúÁÉÍÓÚ]\\w*', doc)\n",
        "    for i in reg:\n",
        "        print(i)\n",
        "        count += 1\n",
        "\n",
        "print(f\"Se encontraron {count} resultados.\")"
      ]
    },
    {
      "cell_type": "markdown",
      "metadata": {
        "id": "ZmPiAI82Mfb3"
      },
      "source": [
        "*   **Pregunta 6.**  \n",
        "\n",
        "Busca e imprime todas las cantidades numéricas monetarias, enteras o con decimales, que inician con el símbolo $\\$$. \n",
        "\n",
        "Indica cuántos resultados obtuviste."
      ]
    },
    {
      "cell_type": "code",
      "execution_count": 138,
      "metadata": {
        "id": "6vhe9-Y-MhL9"
      },
      "outputs": [
        {
          "name": "stdout",
          "output_type": "stream",
          "text": [
            "$20\n",
            "$4.00\n",
            "$17\n",
            "$3\n",
            "$35\n",
            "$7.85\n",
            "$12\n",
            "$11.99\n",
            "Se encontraron 8 resultados.\n"
          ]
        }
      ],
      "source": [
        "count = 0\n",
        "\n",
        "for doc in docs:\n",
        "    reg = re.findall( r'\\$\\d+(?:\\.\\d+)?', doc)\n",
        "    for i in reg:\n",
        "        print(i)\n",
        "        count += 1\n",
        "\n",
        "print(f\"Se encontraron {count} resultados.\")"
      ]
    },
    {
      "cell_type": "code",
      "execution_count": null,
      "metadata": {
        "id": "_t0a5xWDMhQ5"
      },
      "outputs": [],
      "source": []
    },
    {
      "cell_type": "markdown",
      "metadata": {
        "id": "2j-HpvhwMhq2"
      },
      "source": [
        "*   **Pregunta 7.**  \n",
        "\n",
        "Busca e imprime todas las palabras que sean variantes de la palabra \"love\", sin importar si incluyen mayúsculas o minúsculas, o la manera en que esté conjugada o alguna otra variación que se haga con dicha palabra.\n",
        "\n",
        "Indica cuántos resultados obtuviste."
      ]
    },
    {
      "cell_type": "code",
      "execution_count": 3,
      "metadata": {
        "id": "kqqyRChVMjol"
      },
      "outputs": [
        {
          "name": "stdout",
          "output_type": "stream",
          "text": [
            "Se encontraron 36 resultados.\n",
            "['Loved', 'loved', 'Loved', 'love', 'loves', 'LOVED', 'lovers', 'loving', 'love', 'lovers', 'Love', 'loved', 'loved', 'love', 'love', 'love', 'loved', 'love', 'loved', 'Love', 'LOVED', 'love', 'lovely', 'love', 'lovely', 'love', 'lover', 'loved', 'love', 'love', 'love', 'love', 'love', 'love', 'love', 'love']\n"
          ]
        }
      ],
      "source": [
        "count = 0\n",
        "arr = []\n",
        "for doc in docs:\n",
        "    # Busca e imprime todas las palabras que sean variantes de la palabra \"love\", sin importar si incluyen mayúsculas o minúsculas, o la manera en que esté conjugada o alguna otra variación que se haga con dicha palabra.\n",
        "        reg = re.findall(r'\\blov\\w+\\b', doc, re.IGNORECASE)\n",
        "        arr.extend(reg)\n",
        "\n",
        "print(f\"Se encontraron {len(arr)} resultados.\")\n",
        "print(arr)"
      ]
    },
    {
      "cell_type": "code",
      "execution_count": null,
      "metadata": {
        "id": "UXd0VQluMj_x"
      },
      "outputs": [],
      "source": []
    },
    {
      "cell_type": "markdown",
      "metadata": {
        "id": "Ctb-NTY3MkYG"
      },
      "source": [
        "*   **Pregunta 8.**  \n",
        "\n",
        "Busca e imprime todas las palabras, variantes de \"so\" y \"good\", que tengan dos o más \"o\" en \"so\" y 3 o más \"o\" en good. \n",
        "\n",
        "Indica cuántas encontraste.\n"
      ]
    },
    {
      "cell_type": "code",
      "execution_count": 78,
      "metadata": {
        "id": "A8Nf3B_cMlqg"
      },
      "outputs": [
        {
          "name": "stdout",
          "output_type": "stream",
          "text": [
            "Se encontraron 4 resultados.\n",
            "['Sooooo', 'soooo', 'soooooo', 'soooo']\n"
          ]
        }
      ],
      "source": [
        "arr = []\n",
        "for doc in docs:\n",
        "    # Busca e imprime todas las palabras, variantes de \"so\" y \"good\", que tengan dos o más \"o\" en \"so\" y 3 o más \"o\" en good. \n",
        "    reg = re.findall(r'\\bso{2,}\\b|\\bgoodd{3,}\\b', doc, re.IGNORECASE)\n",
        "    arr.extend(reg)\n",
        "print(f\"Se encontraron {len(arr)} resultados.\")\n",
        "print(arr)\n"
      ]
    },
    {
      "cell_type": "code",
      "execution_count": null,
      "metadata": {
        "id": "svS4-vvPMl6f"
      },
      "outputs": [],
      "source": []
    },
    {
      "cell_type": "markdown",
      "metadata": {
        "id": "hkak1opjMmlk"
      },
      "source": [
        "*   **Pregunta 9.**  \n",
        "\n",
        "Busca e imprime todas las palabras que tengan una longitud mayor estrictamente a 10 caracteres alfabéticos.\n",
        "\n",
        "No se consideran los signos de puntuación o caracteres especiales en la longitud de estas cadenas, solo caracteres alfabéticos en mayúsculas o minúsculas.\n",
        "\n",
        "Indica la cantidad de palabras encontradas.\n"
      ]
    },
    {
      "cell_type": "code",
      "execution_count": 66,
      "metadata": {
        "id": "PYxdp3uhMoD0"
      },
      "outputs": [
        {
          "name": "stdout",
          "output_type": "stream",
          "text": [
            "Se encontraron 359 resultados.\n",
            "['recommendation', 'overpriced', 'recommended', 'restaurant', 'overwhelmed', 'restaurant', 'inexpensive', 'establishment', 'refreshing', 'sunglasses', 'imaginative', 'absolutely', 'restaurant', 'APPETIZERS', 'definitely', 'apparently', 'opportunity', 'experiencing', 'underwhelming', 'relationship', 'unsatisfying', 'Everything', 'disappointing', 'experience', 'outrageously', 'Tigerlilly', 'personable', 'restaurant', 'definitely', 'atmosphere', 'experience', 'disappointing', 'Phenomenal', 'Definitely', 'overpriced', 'management', 'selections', 'expectations', 'restaurants', 'suggestions', 'disappointed', 'considering', 'restaurant', 'highlights', 'Unfortunately', 'everything', 'immediately', 'reasonably', 'Restaurant', 'ingredients', 'waitresses', 'Everything', 'accommodations', 'vegetarian', 'atmosphere', 'maintaining', 'definitely', 'absolutely', 'overcooked', 'incredible', 'Interesting', 'disrespected', 'EXPERIENCE', 'accordingly', 'unbelievable', 'uninspired', 'experience', 'cheeseburger', 'descriptions', 'flavourful', 'restaurant', 'privileged', 'complaints', 'godfathers', 'restaurant', 'atmosphere', 'inexpensive', 'absolutely', 'proclaimed', 'disappointed', 'Veggitarian', 'outstanding', 'recommendation', 'disappointed', 'restaurant', 'definitely', 'disappointed', 'incredible', 'neighborhood', 'disappointed', 'convenient', 'incredibly', 'everything', 'corporation', 'delightful', 'reasonable', 'considering', 'exceptional', 'shawarrrrrrma', 'disappointed', 'vinaigrette', 'restaurant', 'especially', 'immediately', 'unbelievably', 'atmosphere', 'Everything', 'replenished', 'disappointed', 'whatsoever', 'vegetables', 'atmosphere', 'appetizers', 'enthusiastic', 'Outstanding', 'restaurant', 'Definitely', 'despicable', 'comfortable', 'interesting', 'INCONSIDERATE', 'MANAGEMENT', 'outshining', 'definitely', 'experience', 'experience', 'reasonable', 'considering', 'incredible', 'transcendant', 'atmosphere', 'perfection', 'impeccable', 'disappointment', 'disappointed', 'accountant', 'frustrated', 'definitely', 'disappointed', 'completely', 'overwhelmed', 'professional', 'companions', 'everything', 'everywhere', 'Furthermore', 'complaints', 'connisseur', 'restaurant', 'absolutley', 'definitely', 'restaurant', 'combination', 'connoisseur', 'definitely', 'difference', 'Definitely', 'profiterole', 'outstanding', 'reasonable', 'acknowledged', 'forgetting', 'margaritas', 'disappoint', 'ventilation', 'beautifully', 'definitely', 'absolutely', 'restaurant', 'establishment', 'extraordinary', 'humiliated', 'CONCLUSION', 'experience', 'incredible', 'Thoroughly', 'disappointed', 'cheesecurds', 'Reasonably', 'Everything', 'disappointed', 'restaurant', 'Everything', 'interesting', 'management', 'restaurant', 'experienced', 'opportunity', 'yellowtail', 'disgraceful', 'experience', 'particular', 'restaurants', 'ESTABLISHMENT', 'restaurant', 'vinegrette', 'disgusting', 'recommended', 'management', 'disappointed', 'recommended', 'acknowledged', 'presentation', 'accomodate', 'Philadelphia', 'satisfying', 'Scottsdale', 'disappointed', 'definitely', 'businesses', 'experience', 'disappointing', 'management', 'grandmother', 'especially', 'drastically', 'impeccable', 'informative', 'Experience', 'Disappointed', 'constructed', 'comfortable', 'restaurant', 'experience', 'atmosphere', 'violinists', 'personally', 'convenient', 'perfection', 'Smashburger', 'disappoint', 'cheeseburger', 'neighborhood', 'themselves', 'atmosphere', 'reasonable', 'soundtrack', 'absolutely', 'definitely', 'disappointed', 'definitely', 'hospitality', 'recommending', 'atmosphere', 'atmosphere', 'disappointed', 'everything', 'deliciously', 'compliments', 'recommendation', 'definitely', 'establishment', 'revisiting', 'restaurant', 'experience', 'calligraphy', 'restaurant', 'restaurant', 'vegetarian', 'management', 'vinegrette', 'definitely', 'definately', 'affordable', 'absolutely', 'traditional', 'bartenders', 'absolutely', 'margaritas', 'restaraunt', 'combination', 'girlfriend', 'Unfortunately', 'experience', 'flavorless', 'describing', 'everything', 'atmosphere', 'Wienerschnitzel', 'vegetables', 'overcooked', 'unfortunately', 'bruschetta', 'mozzarella', 'experience', 'overpriced', 'consistent', 'OVERPRICED', 'officially', 'definitely', 'containers', 'experience', 'considering', 'overpriced', 'especially', 'reasonable', 'restaurant', 'Everything', 'sandwiches', 'everything', 'restaurant', 'highlighted', 'completely', 'delightful', 'experience', 'flavorless', 'definately', 'Albondigas', 'absolutely', 'Mediterranean', 'selections', 'strawberry', 'unprofessional', 'experience', 'satisfying', 'occasional', 'anticipated', 'disappointing', 'unexperienced', 'disrespected', 'steakhouse', 'understand', 'experience', 'disgusting', 'professional', 'restaurants', 'definitely', 'Disappointing', 'experience', 'WAAAAAAyyyyyyyyyy', 'ridiculous', 'reservation', 'imagination', 'vegetables', 'undercooked', 'disappointed', 'overpriced', 'Vegetarian', 'disappointment', 'disappointment', 'deuchebaggery', 'disappointed', 'disappointment', 'restaurant', 'immediately', 'Unfortunately', 'disapppointment', 'correction', 'Overpriced', 'circumstances', 'restaurant', 'vegetables', 'undercooked', 'impressive', 'caterpillar', 'presentation', 'disappointed', 'experience', 'underwhelming']\n"
          ]
        }
      ],
      "source": [
        "\n",
        "arr = []\n",
        "for doc in docs:\n",
        "    reg = re.findall(r'\\b[a-zA-Z]{10,}\\b', doc)\n",
        "    arr.extend(reg)\n",
        "\n",
        "print(f\"Se encontraron {len(arr)} resultados.\")\n",
        "print(arr)"
      ]
    },
    {
      "cell_type": "code",
      "execution_count": null,
      "metadata": {
        "id": "BR7e2F4FMof-"
      },
      "outputs": [],
      "source": []
    },
    {
      "cell_type": "markdown",
      "metadata": {
        "id": "ApjTNzSxMpDc"
      },
      "source": [
        "*   **Pregunta 10.**  \n",
        "\n",
        "Busca e imprime todas las palabras que inician con una letra mayúscula y terminan con una minúscula, pero que además no sea la primera palabra del comentario/string. \n",
        "\n",
        "Indica la cantidad de resultados obtenidos."
      ]
    },
    {
      "cell_type": "code",
      "execution_count": 83,
      "metadata": {
        "id": "Vb0ndRGAMqdL"
      },
      "outputs": [
        {
          "name": "stdout",
          "output_type": "stream",
          "text": [
            "Se encontraron 289 resultados.\n",
            "['Loved', 'May', 'Rick', 'Steve', 'Cape', 'Cod', 'This', 'Vegas', 'Burrittos', 'Blah', 'The', 'They', 'Mexican', 'Took', 'Luke', 'Our', 'Also', 'Overall', 'Poor', 'Hiro', 'On', 'Frozen', 'Firehouse', 'My', 'Greek', 'Heart', 'Attack', 'Grill', 'Great', 'Dos', 'Gringos', 'Jeff', 'Really', 'It', 'Excalibur', 'Very', 'Bad', 'Customer', 'Service', 'Rice', 'Company', 'Pho', 'In', 'Never', 'Hard', 'Rock', 'Casino', 'Best', 'Buffet', 'Tigerlilly', 'Yama', 'At', 'Thai', 'Nice', 'Although', 'Indian', 'Worst', 'We', 'Host', 'Not', 'Phenomenal', 'Definitely', 'Delicious', 'Lox', 'Subway', 'He', 'Mandalay', 'Bay', 'Voodoo', 'Unfortunately', 'Their', 'Phoenix', 'Lordy', 'Khao', 'Soi', 'Perhaps', 'Love', 'Lemon', 'When', 'Joey', 'Valley', 'Magazine', 'Fridays', 'If', 'For', 'Tasty', 'Jamaican', 'Lobster', 'Bisque', 'Bussell', 'Sprouts', 'Risotto', 'Filet', 'Otto', 'As', 'Ordered', 'Yeah', 'Honestly', 'Everyone', 'Drinks', 'Seriously', 'Good', 'Plus', 'Thus', 'Veggitarian', 'Stopped', 'Madison', 'Ironman', 'Jenni', 'Bachi', 'Burger', 'Pizza', 'Salads', 'Yelpers', 'You', 'Will', 'English', 'By', 'Back', 'And', 'Hut', 'Both', 'Seat', 'Gold', 'Standard', 'Of', 'Tucson', 'Chipotle', 'Classy', 'Baseball', 'Sadly', 'Gordon', 'Ramsey', 'Steak', 'Outstanding', 'Food', 'Eggplant', 'Green', 'Bean', 'Halibut', 'Crystals', 'Aria', 'To', 'Ians', 'Bouchon', 'San', 'Francisco', 'Area', 'Buldogis', 'Gourmet', 'Hot', 'Dog', 'Come', 'Furthermore', 'Strike', 'Steiners', 'Anyway', 'Carly', 'Total', 'Camelback', 'Flower', 'Shop', 'Cartel', 'Coffee', 'Third', 'Las', 'Worse', 'Bunch', 'Mom', 'Noca', 'Give', 'Point', 'Oh', 'Similarly', 'Be', 'Sat', 'Sun', 'Frenchman', 'No', 'Perfect', 'However', 'Palm', 'Are', 'All', 'Toast', 'Crema', 'Philadelphia', 'North', 'Scottsdale', 'Sorry', 'Bloody', 'Mary', 'Despite', 'Same', 'Caesar', 'After', 'Macarons', 'Experience', 'Disappointed', 'Big', 'Plater', 'Italian', 'That', 'Baba', 'Ganoush', 'Nobu', 'Smashburger', 'Panna', 'Cotta', 'Prices', 'Hawaiian', 'Breeze', 'Mango', 'Magic', 'Pineapple', 'Delight', 'Needless', 'Anyways', 'Strip', 'Paradise', 'Cibo', 'Thumbs', 'Up', 'Pros', 'Large', 'Elk', 'Cute', 'Dylan', 'One', 'Han', 'Nan', 'Chicken', 'Bar', 'Edinburgh', 'Chinese', 'Probably', 'Friend', 'Try', 'Level', 'Main', 'Sour', 'Egg', 'Soups', 'Stars', 'Sunday', 'Hunan', 'What', 'Pita', 'Wienerschnitzel', 'Maine', 'Roll', 'Lastly', 'Kabuki', 'Maria', 'Caballero', 'Wife', 'Went', 'Everything', 'Costco', 'Place', 'Gyros', 'Japanese', 'Now', 'Albondigas', 'Mediterranean', 'Salad', 'Mellow', 'Mushroom', 'Mmmm', 'Bellagio', 'How', 'There', 'Christmas', 'Eve', 'Every', 'Denny', 'Maybe', 'Vegetarian', 'Then', 'Insults', 'Taco', 'Your', 'Heimer', 'Ha', 'Long', 'Brushfire', 'Mirage', 'Ninja', 'Sushi']\n"
          ]
        }
      ],
      "source": [
        "arr = []\n",
        "for doc in docs:\n",
        "    reg = re.findall(r'(?<!^)\\b[A-Z][a-z]*[a-z]\\b', doc)\n",
        "    #palabras repetidas se eliminan\n",
        "    for palabra in reg:\n",
        "        if palabra not in arr:\n",
        "            arr.append(palabra)\n",
        "            \n",
        "\n",
        "print(f\"Se encontraron {len(arr)} resultados.\")\n",
        "print(arr)"
      ]
    },
    {
      "cell_type": "code",
      "execution_count": null,
      "metadata": {
        "id": "dLPTRPnTMqqx"
      },
      "outputs": [],
      "source": []
    },
    {
      "cell_type": "markdown",
      "metadata": {
        "id": "u7nfm4KhMrNW"
      },
      "source": [
        "*   **Pregunta 11.**  \n",
        "\n",
        "Busca e imprime la secuencia de dos o más palabras que están separadas por un guion, \"-\", sin que tengan espacios en blanco entre ellas.\n",
        "\n",
        "Por ejemplo \"Go-Kart\" sería válido, pero \"Go  -Kart\" o \"Go  -  Kart\" no lo serían. \n",
        "\n",
        "Indica la cantidad de resultados obtenidos."
      ]
    },
    {
      "cell_type": "code",
      "execution_count": 85,
      "metadata": {
        "id": "OwU-a7eGMsub"
      },
      "outputs": [
        {
          "name": "stdout",
          "output_type": "stream",
          "text": [
            "Se encontraron 19 resultados.\n",
            "['flat-lined', 'hands-down', 'must-stop', 'sub-par', 'Service-check', 'in-house', 'been-stepped-in-and-tracked-everywhere', 'multi-grain', 'to-go', 'non-customer', 'High-quality', 'sit-down', 'over-whelm', 'low-key', 'non-fancy', 'golden-crispy', 'over-priced', 'over-hip', 'under-services']\n"
          ]
        }
      ],
      "source": [
        "arr = []\n",
        "for doc in docs:\n",
        "    reg = re.findall(r'\\b\\w+-\\w+(?:-\\w+)*\\b', doc)\n",
        "    arr.extend(reg)\n",
        "\n",
        "print(f\"Se encontraron {len(arr)} resultados.\")\n",
        "print(arr)"
      ]
    },
    {
      "cell_type": "code",
      "execution_count": null,
      "metadata": {
        "id": "SgzIL74ZMtGw"
      },
      "outputs": [],
      "source": []
    },
    {
      "cell_type": "markdown",
      "metadata": {
        "id": "DEIgl79HMthr"
      },
      "source": [
        "*   **Pregunta 12.**  \n",
        "\n",
        "Busca e imprime todas las palabras que terminan en \"ing\" o \"ed\". \n",
        "\n",
        "Indica la cantidad de palabras que encontraste de cada una."
      ]
    },
    {
      "cell_type": "code",
      "execution_count": 86,
      "metadata": {
        "id": "I4TSofBMMv9y"
      },
      "outputs": [
        {
          "name": "stdout",
          "output_type": "stream",
          "text": [
            "Se encontraron 279 resultados.\n",
            "['during', 'getting', 'being', 'being', 'amazing', 'running', 'redeeming', 'getting', 'thing', 'dressing', 'refreshing', 'running', 'amazing', 'nothing', 'appalling', 'wasting', 'eating', 'going', 'Coming', 'experiencing', 'underwhelming', 'eating', 'raving', 'spring', 'unsatisfying', 'amazing', 'Everything', 'disappointing', 'dining', 'flirting', 'thing', 'coming', 'playing', 'ordering', 'arriving', 'disappointing', 'preparing', 'loving', 'liking', 'reviewing', 'venturing', 'including', 'during', 'changing', 'going', 'considering', 'coming', 'going', 'everything', 'looking', 'dressing', 'dining', 'Everything', 'amazing', 'judging', 'maintaining', 'asking', 'having', 'something', 'lacking', 'Interesting', 'preparing', 'missing', 'feeling', 'exceeding', 'inviting', 'climbing', 'waiting', 'coming', 'being', 'lacking', 'going', 'amazing', 'dealing', 'annoying', 'falling', 'sporting', 'amazing', 'providing', 'building', 'lighting', 'going', 'nothing', 'working', 'eating', 'dressing', 'being', 'outstanding', 'getting', 'amazing', 'rating', 'eating', 'writing', 'everything', 'dining', 'boring', 'charming', 'going', 'making', 'pricing', 'considering', 'amazing', 'Everything', 'nothing', 'nothing', 'driving', 'during', 'evening', 'Outstanding', 'buying', 'handling', 'wasting', 'craving', 'dining', 'interesting', 'amazing', 'being', 'outshining', 'starving', 'coming', 'considering', 'shopping', 'nothing', 'getting', 'trying', 'eating', 'going', 'everything', 'Nothing', 'going', 'outstanding', 'running', 'forgetting', 'upgrading', 'eating', 'bring', 'hoping', 'living', 'dining', 'filling', 'amazing', 'Everything', 'thing', 'amazing', 'Everything', 'interesting', 'amazing', 'amazing', 'waiting', 'going', 'going', 'dining', 'saving', 'something', 'trying', 'disgusting', 'hankering', 'being', 'being', 'being', 'setting', 'sitting', 'waiting', 'satisfying', 'eating', 'being', 'freaking', 'getting', 'amazing', 'disappointing', 'seasoning', 'going', 'being', 'bring', 'letting', 'evening', 'waiting', 'being', 'eating', 'going', 'seating', 'playing', 'amazing', 'staying', 'giving', 'talking', 'amazing', 'amazing', 'amazing', 'amazing', 'filling', 'dripping', 'going', 'serving', 'recommending', 'thing', 'reading', 'seating', 'going', 'everything', 'thing', 'sitting', 'waiting', 'bring', 'revisiting', 'coming', 'anything', 'feeling', 'during', 'thing', 'being', 'amazing', 'being', 'amazing', 'satifying', 'describing', 'coming', 'everything', 'Paying', 'going', 'thing', 'amazing', 'getting', 'cramming', 'considering', 'fucking', 'going', 'appealing', 'getting', 'coming', 'Everything', 'dealing', 'everything', 'something', 'during', 'dining', 'cooking', 'dining', 'editing', 'setting', 'amazing', 'rotating', 'Pricing', 'satisfying', 'disappointing', 'amazing', 'returning', 'running', 'being', 'thing', 'nothing', 'poisoning', 'thinking', 'something', 'going', 'disgusting', 'caring', 'bring', 'Disappointing', 'saying', 'going', 'coming', 'building', 'seating', 'dipping', 'setting', 'anything', 'drinking', 'serving', 'doing', 'putting', 'getting', 'looking', 'coming', 'staying', 'lacking', 'underwhelming', 'drawing', 'bring']\n",
            "Se encontraron 335 resultados.\n",
            "['Loved', 'Stopped', 'loved', 'ended', 'overpriced', 'tried', 'disgusted', 'shocked', 'recommended', 'performed', 'red', 'asked', 'overwhelmed', 'grossed', 'melted', 'provided', 'cooked', 'ordered', 'realized', 'Loved', 'lined', 'cooked', 'ripped', 'ripped', 'petrified', 'included', 'expected', 'seasoned', 'cheated', 'walked', 'smelled', 'tailored', 'arrived', 'roasted', 'added', 'cooked', 'passed', 'liked', 'managed', 'served', 'overpriced', 'checked', 'disappointed', 'red', 'decorated', 'served', 'watched', 'greeted', 'seated', 'waited', 'flavored', 'ordered', 'ordered', 'relocated', 'impressed', 'seated', 'priced', 'treated', 'ordered', 'used', 'handed', 'listed', 'missed', 'thrilled', 'inspired', 'desired', 'overcooked', 'decided', 'looked', 'dressed', 'treated', 'ordered', 'sucked', 'expected', 'sucked', 'imagined', 'served', 'arrived', 'satisfied', 'voted', 'insulted', 'disrespected', 'dreamed', 'lived', 'stepped', 'mixed', 'showed', 'realized', 'loved', 'needed', 'loved', 'wrapped', 'uninspired', 'Ordered', 'uploaded', 'covered', 'supposed', 'rolled', 'stayed', 'Based', 'received', 'privileged', 'charged', 'visited', 'proclaimed', 'disappointed', 'Stopped', 'dedicated', 'liked', 'disappointed', 'waited', 'waited', 'burned', 'waited', 'disappointed', 'Waited', 'disappointed', 'pulled', 'prepared', 'fried', 'passed', 'ordered', 'toasted', 'untoasted', 'figured', 'returned', 'eyed', 'disappointed', 'pleased', 'replenished', 'disappointed', 'treated', 'offered', 'tasted', 'dropped', 'decorated', 'served', 'walked', 'stuffed', 'located', 'Cooked', 'disappointed', 'screwed', 'frustrated', 'iced', 'stuffed', 'disappointed', 'grossed', 'enjoyed', 'looked', 'overwhelmed', 'stayed', 'smeared', 'stepped', 'tracked', 'tried', 'rushed', 'loved', 'Ordered', 'cooked', 'insulted', 'contained', 'enjoyed', 'relaxed', 'loved', 'acknowledged', 'trimmed', 'cooked', 'claimed', 'handled', 'asked', 'limited', 'boiled', 'liked', 'sliced', 'attached', 'humiliated', 'fried', 'impressed', 'disappointed', 'priced', 'disappointed', 'need', 'need', 'experienced', 'waited', 'seated', 'decided', 'pleased', 'recommended', 'helped', 'witnessed', 'Waited', 'waited', 'waited', 'checked', 'tasted', 'disappointed', 'served', 'rated', 'recommended', 'pulled', 'waited', 'acknowledged', 'perpared', 'dusted', 'powdered', 'enjoyed', 'expanded', 'ended', 'arrived', 'wanted', 'disappointed', 'need', 'checked', 'impressed', 'reheated', 'tasted', 'grilled', 'focused', 'roasted', 'asked', 'ignored', 'tasted', 'Ordered', 'greeted', 'seated', 'Tried', 'seated', 'Disappointed', 'ordered', 'constructed', 'fried', 'requested', 'used', 'tasted', 'drenched', 'tried', 'walked', 'expected', 'disappointed', 'mortified', 'impressed', 'refrained', 'pleased', 'loved', 'grilled', 'reminded', 'sucked', 'hooked', 'ordered', 'disappointed', 'seasoned', 'added', 'touched', 'fried', 'opened', 'impressed', 'watched', 'Tasted', 'ordered', 'received', 'impressed', 'overcooked', 'cooked', 'needed', 'served', 'ordered', 'overpriced', 'packed', 'opposed', 'priced', 'surprised', 'focused', 'overpriced', 'tried', 'enjoyed', 'qualified', 'tasted', 'hated', 'watched', 'fried', 'tried', 'helped', 'started', 'highlighted', 'used', 'enjoyed', 'ordered', 'tasted', 'asked', 'refused', 'tried', 'toasted', 'anticipated', 'unexperienced', 'insulted', 'disrespected', 'impressed', 'puréed', 'asked', 'rated', 'lacked', 'sliced', 'pulled', 'undercooked', 'seemed', 'watered', 'lacked', 'disappointed', 'overpriced', 'ensued', 'disappointed', 'placed', 'avoided', 'received', 'wanted', 'sucked', 'happened', 'owned', 'wanted', 'Overpriced', 'vomited', 'started', 'unwrapped', 'lacked', 'seemed', 'undercooked', 'closed', 'refried', 'dried', 'disappointed', 'impressed', 'wasted', 'poured']\n"
          ]
        }
      ],
      "source": [
        "arrA = []\n",
        "arrB = []\n",
        "for doc in docs:\n",
        "    reg_ing = re.findall(r'\\b\\w+ing\\b', doc)\n",
        "    reg_ed = re.findall(r'\\b\\w+ed\\b', doc)\n",
        "    arrA.extend(reg_ing)\n",
        "    arrB.extend(reg_ed)\n",
        "\n",
        "print(f\"Se encontraron {len(arrA)} resultados.\")\n",
        "print(arrA)\n",
        "print(f\"Se encontraron {len(arrB)} resultados.\")\n",
        "print(arrB)\n"
      ]
    },
    {
      "cell_type": "code",
      "execution_count": null,
      "metadata": {
        "id": "AhGq6De2Mvyh"
      },
      "outputs": [],
      "source": []
    },
    {
      "cell_type": "markdown",
      "metadata": {
        "id": "70StdqAZa9E9"
      },
      "source": [
        "#**Parte 3. Proceso de limpieza.**"
      ]
    },
    {
      "cell_type": "markdown",
      "metadata": {
        "id": "xaDUFXHrMvX2"
      },
      "source": [
        "*   **Pregunta 13.**  \n",
        "\n",
        "Ahora realiza un proceso de limpieza del corpus que incluya los siguientes procesos:\n",
        "\n",
        "*   Solo se deben considerar caracteres alfabéticos. Es decir, se eliminan todos los signos de puntuación y caracteres especiales.\n",
        "*   Todos los caracteres alfabéticos se transforman a minúsculas.\n",
        "*   Se deben eliminar todos los espacios en blanco adicionales que se puedan encontrar en cada comentario.\n",
        "\n",
        "Al finalizar dicho proceso de limpieza, imprime el resultado de los primeros 10 comentarios resultantes. \n",
        "   \n",
        "\n",
        "\n"
      ]
    },
    {
      "cell_type": "code",
      "execution_count": 87,
      "metadata": {
        "id": "K3kQzPOPMx0w"
      },
      "outputs": [
        {
          "name": "stdout",
          "output_type": "stream",
          "text": [
            "wow loved this place\n",
            "crust is not good\n",
            "not tasty and the texture was just nasty\n",
            "stopped by during the late may bank holiday off rick steve recommendation and loved it\n",
            "the selection on the menu was great and so were the prices\n",
            "now i am getting angry and i want my damn pho\n",
            "honeslty it didnt taste that fresh\n",
            "the potatoes were like rubber and you could tell they had been made up ahead of time being kept under a warmer\n",
            "the fries were great too\n",
            "a great touch\n"
          ]
        }
      ],
      "source": [
        "clean_comments = []\n",
        "\n",
        "for comment in docs:\n",
        "    \n",
        "    comment = re.sub(r'[^\\w\\s]', '', comment)\n",
        "    \n",
        "    comment = comment.lower()\n",
        "\n",
        "    comment = re.sub(r'\\s+', ' ', comment.strip())\n",
        "    \n",
        "    clean_comments.append(comment)\n",
        "\n",
        "for comment in clean_comments[:10]:\n",
        "    print(comment)"
      ]
    },
    {
      "cell_type": "code",
      "execution_count": null,
      "metadata": {
        "id": "mYEDlHSFMyJN"
      },
      "outputs": [],
      "source": []
    },
    {
      "cell_type": "markdown",
      "metadata": {
        "id": "WZwEhg2lUSAX"
      },
      "source": [
        "*   **Pregunta 14.**  \n",
        "\n",
        "Con el resultado de la limpieza obtenido en la pregunta anterior, realiza ahora un proceso de tokenización por palabras del corpus. \n",
        "\n",
        "Es decir, al final de este proceso de tokenización, debes tener como resultado una lista de listas, donde cada comentario estará tokenizado por palabras.\n",
        "\n",
        "Al terminar calcula el total de tokens obtenido en todo el corpus. "
      ]
    },
    {
      "cell_type": "code",
      "execution_count": 88,
      "metadata": {
        "id": "kbAL9-v0V-jx"
      },
      "outputs": [],
      "source": [
        "# Recorremos cada comentario limpiado, dividimos por palabras y agregamos a una lista de listas\n",
        "tokenized_corpus = []\n",
        "for comment in clean_comments:\n",
        "    tokens = comment.split()\n",
        "    tokenized_corpus.append(tokens)\n",
        "\n",
        "# Calculamos el número total de tokens en todo el corpus\n",
        "total_tokens = 0\n",
        "for tokens in tokenized_corpus:\n",
        "    total_tokens += len(tokens)"
      ]
    },
    {
      "cell_type": "code",
      "execution_count": 90,
      "metadata": {
        "id": "DZs_etmiV-fd"
      },
      "outputs": [
        {
          "name": "stdout",
          "output_type": "stream",
          "text": [
            "['wow', 'loved', 'this', 'place']\n",
            "['crust', 'is', 'not', 'good']\n",
            "['not', 'tasty', 'and', 'the', 'texture', 'was', 'just', 'nasty']\n",
            "['stopped', 'by', 'during', 'the', 'late', 'may', 'bank', 'holiday', 'off', 'rick', 'steve', 'recommendation', 'and', 'loved', 'it']\n",
            "['the', 'selection', 'on', 'the', 'menu', 'was', 'great', 'and', 'so', 'were', 'the', 'prices']\n",
            "['now', 'i', 'am', 'getting', 'angry', 'and', 'i', 'want', 'my', 'damn', 'pho']\n",
            "['honeslty', 'it', 'didnt', 'taste', 'that', 'fresh']\n",
            "['the', 'potatoes', 'were', 'like', 'rubber', 'and', 'you', 'could', 'tell', 'they', 'had', 'been', 'made', 'up', 'ahead', 'of', 'time', 'being', 'kept', 'under', 'a', 'warmer']\n",
            "['the', 'fries', 'were', 'great', 'too']\n",
            "['a', 'great', 'touch']\n",
            "El corpus contiene 10846 tokens.\n"
          ]
        }
      ],
      "source": [
        "# Imprimimos los primeros 10 comentarios tokenizados\n",
        "for i in range(10):\n",
        "    print(tokenized_corpus[i])\n",
        "\n",
        "# Imprimimos el número total de tokens en todo el corpus\n",
        "print(f\"El corpus contiene {total_tokens} tokens.\")"
      ]
    },
    {
      "cell_type": "markdown",
      "metadata": {
        "id": "EFeu0OJ7WDPD"
      },
      "source": [
        "*   **Pregunta 15.**  \n",
        "\n",
        "Finalmente, en este ejercicio definiremos nuestro conjunto de palabras \"stopwords\", las cuales deberás eliminar de todo el corpus. \n",
        "\n",
        "Recuerda que ejemplos de stopwords son artículos, adverbios, conectivos, etcétera, que tienen frecuencias de aparición muy altas en cualquier documento, pero que no brindan mucho significado en cuanto al significado de un enunciado.\n",
        "\n",
        "Con base a la lista de stopwords que se te proporciona, realiza un proceso de limpieza eliminando todas estas palabras del corpus obtenido en el ejercicio anterior.\n",
        "\n",
        "Obtener cuántos tokens/palabras quedan finalmente en todo el corpus.\n",
        "\n",
        "Obtener cuántos de estos tokens/palabras son diferentes, es decir, cuántos tokens únicos tendrá lo que llamaremos más adelante nuestro vocabulario."
      ]
    },
    {
      "cell_type": "code",
      "execution_count": 92,
      "metadata": {
        "id": "6FP4FF3KXGxm"
      },
      "outputs": [],
      "source": [
        "# Considera la siguiente lista como tu conjunto de stopwords:\n",
        "mis_stopwords = ['i', 'me', 'my', 'myself', 'we', 'our', 'ours', 'ourselves', 'you', 'your', 'yours', 'he', 'him', 'his', 'himself', 'she', 'her', 'hers', 'herself', 'it', 'its', 'itself', 'they', 'them', 'their', 'theirs', 'themselves', 'what', 'which', 'who', 'whom', 'this', 'that', 'these', 'those', 'am', 'is', 'are', 'was', 'were', 'be', 'been', 'being', 'have', 'has', 'had', 'having', 'do', 'does', 'did', 'doing', 'a', 'an', 'the', 'and', 'but', 'if', 'or', 'because', 'as', 'until', 'while', 'of', 'at', 'by', 'for', 'with', 'about', 'against', 'between', 'into', 'through', 'during', 'before', 'after', 'above', 'below', 'to', 'from', 'up', 'down', 'in', 'out', 'on', 'over', 'under', 'again', 'further', 'then', 'once', 'here', 'there', 'when', 'where', 'why', 'how', 'all', 'any', 'both', 'each', 'few', 'more', 'most', 'other', 'some', 'such', 'only', 'own', 'same', 'so', 'than', 'too', 'very', 's', 't', 'can', 'will', 'just', 'should', 'now', 'll']"
      ]
    },
    {
      "cell_type": "code",
      "execution_count": 93,
      "metadata": {
        "id": "CD8yjyq1ZrwY"
      },
      "outputs": [],
      "source": [
        "corpus_without_stopwords = []\n",
        "for comment in tokenized_corpus:\n",
        "    cleaned_comment = []\n",
        "    for word in comment:\n",
        "        if word not in mis_stopwords:\n",
        "            cleaned_comment.append(word)\n",
        "    corpus_without_stopwords.append(cleaned_comment)\n"
      ]
    },
    {
      "cell_type": "code",
      "execution_count": 94,
      "metadata": {
        "id": "4ZPi5prKZro5"
      },
      "outputs": [
        {
          "name": "stdout",
          "output_type": "stream",
          "text": [
            "Cantidad de tokens/palabras en el corpus limpio: 5846\n",
            "Cantidad de tokens/palabras únicos en el corpus limpio: 1970\n"
          ]
        }
      ],
      "source": [
        "total_tokens = 0\n",
        "vocabulario = set()\n",
        "for comment in corpus_without_stopwords:\n",
        "    for word in comment:\n",
        "        total_tokens += 1\n",
        "        vocabulario.add(word)\n",
        "\n",
        "print(\"Cantidad de tokens/palabras en el corpus limpio:\", total_tokens)\n",
        "print(\"Cantidad de tokens/palabras únicos en el corpus limpio:\", len(vocabulario))\n"
      ]
    },
    {
      "cell_type": "markdown",
      "metadata": {
        "id": "NDbKkuxRbLoX"
      },
      "source": [
        "*   **Comentarios**\n",
        "\n",
        "Incluye finalmente tus comentarios de la actividad."
      ]
    },
    {
      "attachments": {},
      "cell_type": "markdown",
      "metadata": {
        "id": "o7fzbvqVbUGr"
      },
      "source": [
        "Durante esta actividad se puso en práctica el procesamiento de texto utilizando Python y sus librerías. Se realizaron diversas tareas como la lectura de un corpus, búsqueda de patrones de texto, limpieza de datos, tokenización y eliminación de stopwords.\n",
        "\n",
        "Es interesante ver cómo mediante estas técnicas podemos analizar y entender mejor el contenido de un texto. Además, también es importante destacar la relevancia de la limpieza de datos en el procesamiento de texto, ya que esto puede impactar significativamente en los resultados de cualquier análisis.\n",
        "\n",
        "En general, esta actividad me permitió aplicar conocimientos teóricos de procesamiento de texto en un caso práctico, lo que me ayudó a entender mejor el funcionamiento de las diferentes técnicas."
      ]
    },
    {
      "cell_type": "markdown",
      "metadata": {
        "id": "PHaKw_6Ldbaf"
      },
      "source": [
        "##**Fin de la Actividad de la semana 2.**"
      ]
    }
  ],
  "metadata": {
    "colab": {
      "collapsed_sections": [
        "759SG4TyfbUn",
        "Zj-h4drXD-X9",
        "BY6yifxscfrx",
        "k_ewoagic5jc",
        "70StdqAZa9E9"
      ],
      "provenance": []
    },
    "kernelspec": {
      "display_name": "Python 3",
      "name": "python3"
    },
    "language_info": {
      "codemirror_mode": {
        "name": "ipython",
        "version": 3
      },
      "file_extension": ".py",
      "mimetype": "text/x-python",
      "name": "python",
      "nbconvert_exporter": "python",
      "pygments_lexer": "ipython3",
      "version": "3.11.1"
    }
  },
  "nbformat": 4,
  "nbformat_minor": 0
}
